{
 "cells": [
  {
   "cell_type": "code",
   "execution_count": 14,
   "metadata": {},
   "outputs": [],
   "source": [
    "import numpy as np\n",
    "from copy import deepcopy"
   ]
  },
  {
   "cell_type": "code",
   "execution_count": 10,
   "metadata": {},
   "outputs": [],
   "source": [
    "def wrapper(lambda_function: function) -> function:\n",
    "    \n",
    "    def wrapped_function(args: list):\n",
    "        return lambda_function(*args)\n",
    "    \n",
    "    return wrapped_function"
   ]
  },
  {
   "cell_type": "code",
   "execution_count": 15,
   "metadata": {},
   "outputs": [],
   "source": [
    "def max_error(system: list, args: list) -> float:\n",
    "    \n",
    "    return max([abs(lam(*args)) for lam in system])"
   ]
  },
  {
   "cell_type": "code",
   "execution_count": 9,
   "metadata": {},
   "outputs": [],
   "source": [
    "def Jacoby(system: list, start_values=None, eps=1e-7) -> list:\n",
    "    '''\n",
    "        Метод простой итерации (метод Якоби). \n",
    "        Input:\n",
    "            system = [\n",
    "                lambda x, y, z: x ** 2 + np.sin(y) + z,\n",
    "                lambda x, y, z: y ** 2 + np.cos(z) + x, \n",
    "                lambda x, y, z: z ** 2 + y / x + 2\n",
    "            ]\n",
    "            start_values = [1., 1., 1.] (if None - random generation of the first approximation)\n",
    "        Output:\n",
    "            [x1, x2, x3]\n",
    "    '''\n",
    "\n",
    "    answer = []\n",
    "    min_error = np.inf\n",
    "    n = len(system)\n",
    "    if start_values is None:\n",
    "        values = np.random.rand((n, ))\n",
    "    else:\n",
    "        values = deepcopy(start_values)\n",
    "    wsystem = [wrapper(lam) for lam in system]\n",
    "\n",
    "    #TODO: продумать, сколько на самом деле делать попыток запуска\n",
    "    #TODO: продумать, как отслеживать сходимость к решению, направление движения\n",
    "    for _ in range(5):\n",
    "        iter = 0\n",
    "        while iter < 1000 or max_error(system, values) > eps:\n",
    "            pass"
   ]
  }
 ],
 "metadata": {
  "kernelspec": {
   "display_name": "Python 3",
   "language": "python",
   "name": "python3"
  },
  "language_info": {
   "codemirror_mode": {
    "name": "ipython",
    "version": 3
   },
   "file_extension": ".py",
   "mimetype": "text/x-python",
   "name": "python",
   "nbconvert_exporter": "python",
   "pygments_lexer": "ipython3",
   "version": "3.9.7"
  }
 },
 "nbformat": 4,
 "nbformat_minor": 2
}
