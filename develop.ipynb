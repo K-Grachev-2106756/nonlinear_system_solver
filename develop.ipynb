{
 "cells": [
  {
   "cell_type": "code",
   "execution_count": 4,
   "metadata": {},
   "outputs": [],
   "source": [
    "import numpy as np"
   ]
  },
  {
   "cell_type": "code",
   "execution_count": 5,
   "metadata": {},
   "outputs": [],
   "source": [
    "def wrapper(lambda_function):\n",
    "    \n",
    "    def wrapped_function(args: list):\n",
    "        return lambda_function(*args)\n",
    "    \n",
    "    return wrapped_function"
   ]
  },
  {
   "cell_type": "code",
   "execution_count": 6,
   "metadata": {},
   "outputs": [],
   "source": [
    "def max_error(system: list, args: list) -> float:\n",
    "\n",
    "    return max([abs(lam(*args)) for lam in system])"
   ]
  },
  {
   "cell_type": "code",
   "execution_count": 84,
   "metadata": {},
   "outputs": [],
   "source": [
    "def Jacobi(system: list, values=None, eps=1e-7) -> list:\n",
    "    '''\n",
    "        The simple iteration method (Jacobi method). \n",
    "        Example:\n",
    "            Input:\n",
    "                system = [\n",
    "                    lambda x, y, z: x ** 2 + np.sin(y) + z,\n",
    "                    lambda x, y, z: y ** 2 + np.cos(z) + x, \n",
    "                    lambda x, y, z: z ** 2 + y / x + 2\n",
    "                ]\n",
    "                start_values = [1., 1., 1.] (if None - automatic answer search)\n",
    "            Output:\n",
    "                [x1, x2, x3]\n",
    "    '''\n",
    "\n",
    "    n = len(system)\n",
    "    answer = []\n",
    "    min_error = np.inf   \n",
    "    start_bias = np.zeros((n, ))\n",
    "    wsystem = [wrapper(lam) for lam in system]\n",
    "    epoches = 100 ** n \n",
    "    if values is None:\n",
    "        values = np.ones((n, ))\n",
    "    else:\n",
    "        if not isinstance(values, np.ndarray):\n",
    "            values = np.array(values)\n",
    "        epoches = 1\n",
    "\n",
    "    for i in range(epoches):\n",
    "        k = -1 ** (i % 2)\n",
    "        values *= k\n",
    "        start_bias *= k\n",
    "        values = values + start_bias\n",
    "        start_bias += 0.001\n",
    "        error_last = np.inf / 2\n",
    "        iter = 0\n",
    "        while error_last > eps and iter < 1000:\n",
    "            iter += 1\n",
    "            values = [values[i] - wsystem[i](values) for i in range(n)] # Вычисление i-ого приближения \n",
    "            error_cur = max_error(system, values) \n",
    "            if (error_cur > error_last) or (error_cur > np.inf) or None in values:\n",
    "                values = np.ones((n, ))\n",
    "                break\n",
    "            elif error_cur < min_error:\n",
    "                answer = values\n",
    "                min_error = error_cur\n",
    "            error_last = error_cur                \n",
    "                \n",
    "        if error_cur < eps:\n",
    "            return values, min_error\n",
    "        \n",
    "    return answer, min_error"
   ]
  },
  {
   "cell_type": "code",
   "execution_count": 86,
   "metadata": {},
   "outputs": [
    {
     "name": "stdout",
     "output_type": "stream",
     "text": [
      "([1.0], 0.0)\n"
     ]
    }
   ],
   "source": [
    "print(Jacobi([lambda x: x ** 3 - 1], [10]))"
   ]
  },
  {
   "cell_type": "code",
   "execution_count": 87,
   "metadata": {},
   "outputs": [
    {
     "ename": "KeyboardInterrupt",
     "evalue": "",
     "output_type": "error",
     "traceback": [
      "\u001b[1;31m---------------------------------------------------------------------------\u001b[0m",
      "\u001b[1;31mKeyboardInterrupt\u001b[0m                         Traceback (most recent call last)",
      "Cell \u001b[1;32mIn[87], line 6\u001b[0m\n\u001b[0;32m      1\u001b[0m system \u001b[38;5;241m=\u001b[39m [\n\u001b[0;32m      2\u001b[0m     \u001b[38;5;28;01mlambda\u001b[39;00m x, y, z: x \u001b[38;5;241m*\u001b[39m\u001b[38;5;241m*\u001b[39m \u001b[38;5;241m2\u001b[39m \u001b[38;5;241m+\u001b[39m np\u001b[38;5;241m.\u001b[39msin(y) \u001b[38;5;241m+\u001b[39m z,\n\u001b[0;32m      3\u001b[0m     \u001b[38;5;28;01mlambda\u001b[39;00m x, y, z: y \u001b[38;5;241m*\u001b[39m\u001b[38;5;241m*\u001b[39m \u001b[38;5;241m2\u001b[39m \u001b[38;5;241m+\u001b[39m np\u001b[38;5;241m.\u001b[39mcos(z) \u001b[38;5;241m+\u001b[39m x, \n\u001b[0;32m      4\u001b[0m     \u001b[38;5;28;01mlambda\u001b[39;00m x, y, z: z \u001b[38;5;241m*\u001b[39m\u001b[38;5;241m*\u001b[39m \u001b[38;5;241m2\u001b[39m \u001b[38;5;241m+\u001b[39m y \u001b[38;5;241m/\u001b[39m x \u001b[38;5;241m+\u001b[39m \u001b[38;5;241m2\u001b[39m\n\u001b[0;32m      5\u001b[0m ]\n\u001b[1;32m----> 6\u001b[0m \u001b[38;5;28mprint\u001b[39m(\u001b[43mJacoby\u001b[49m\u001b[43m(\u001b[49m\u001b[43msystem\u001b[49m\u001b[43m)\u001b[49m)\n",
      "Cell \u001b[1;32mIn[84], line 33\u001b[0m, in \u001b[0;36mJacoby\u001b[1;34m(system, values, eps)\u001b[0m\n\u001b[0;32m     31\u001b[0m error_last \u001b[38;5;241m=\u001b[39m np\u001b[38;5;241m.\u001b[39minf \u001b[38;5;241m/\u001b[39m \u001b[38;5;241m2\u001b[39m\n\u001b[0;32m     32\u001b[0m \u001b[38;5;28;01mwhile\u001b[39;00m error_last \u001b[38;5;241m>\u001b[39m eps:\n\u001b[1;32m---> 33\u001b[0m     values \u001b[38;5;241m=\u001b[39m [values[i] \u001b[38;5;241m-\u001b[39m wsystem[i](values) \u001b[38;5;28;01mfor\u001b[39;00m i \u001b[38;5;129;01min\u001b[39;00m \u001b[38;5;28mrange\u001b[39m(n)] \u001b[38;5;66;03m# Вычисление i-ого приближения \u001b[39;00m\n\u001b[0;32m     34\u001b[0m     error_cur \u001b[38;5;241m=\u001b[39m max_error(system, values) \n\u001b[0;32m     35\u001b[0m     \u001b[38;5;28;01mif\u001b[39;00m (error_cur \u001b[38;5;241m>\u001b[39m error_last) \u001b[38;5;129;01mor\u001b[39;00m (error_cur \u001b[38;5;241m>\u001b[39m np\u001b[38;5;241m.\u001b[39minf) \u001b[38;5;129;01mor\u001b[39;00m \u001b[38;5;28;01mNone\u001b[39;00m \u001b[38;5;129;01min\u001b[39;00m values:\n",
      "Cell \u001b[1;32mIn[84], line 33\u001b[0m, in \u001b[0;36m<listcomp>\u001b[1;34m(.0)\u001b[0m\n\u001b[0;32m     31\u001b[0m error_last \u001b[38;5;241m=\u001b[39m np\u001b[38;5;241m.\u001b[39minf \u001b[38;5;241m/\u001b[39m \u001b[38;5;241m2\u001b[39m\n\u001b[0;32m     32\u001b[0m \u001b[38;5;28;01mwhile\u001b[39;00m error_last \u001b[38;5;241m>\u001b[39m eps:\n\u001b[1;32m---> 33\u001b[0m     values \u001b[38;5;241m=\u001b[39m [values[i] \u001b[38;5;241m-\u001b[39m \u001b[43mwsystem\u001b[49m[i](values) \u001b[38;5;28;01mfor\u001b[39;00m i \u001b[38;5;129;01min\u001b[39;00m \u001b[38;5;28mrange\u001b[39m(n)] \u001b[38;5;66;03m# Вычисление i-ого приближения \u001b[39;00m\n\u001b[0;32m     34\u001b[0m     error_cur \u001b[38;5;241m=\u001b[39m max_error(system, values) \n\u001b[0;32m     35\u001b[0m     \u001b[38;5;28;01mif\u001b[39;00m (error_cur \u001b[38;5;241m>\u001b[39m error_last) \u001b[38;5;129;01mor\u001b[39;00m (error_cur \u001b[38;5;241m>\u001b[39m np\u001b[38;5;241m.\u001b[39minf) \u001b[38;5;129;01mor\u001b[39;00m \u001b[38;5;28;01mNone\u001b[39;00m \u001b[38;5;129;01min\u001b[39;00m values:\n",
      "\u001b[1;31mKeyboardInterrupt\u001b[0m: "
     ]
    }
   ],
   "source": [
    "system = [\n",
    "    lambda x, y, z: x ** 2 + np.sin(y) + z,\n",
    "    lambda x, y, z: y ** 2 + np.cos(z) + x, \n",
    "    lambda x, y, z: z ** 2 + y / x + 2\n",
    "]\n",
    "print(Jacobi(system))"
   ]
  }
 ],
 "metadata": {
  "kernelspec": {
   "display_name": "Python 3",
   "language": "python",
   "name": "python3"
  },
  "language_info": {
   "codemirror_mode": {
    "name": "ipython",
    "version": 3
   },
   "file_extension": ".py",
   "mimetype": "text/x-python",
   "name": "python",
   "nbconvert_exporter": "python",
   "pygments_lexer": "ipython3",
   "version": "3.9.7"
  }
 },
 "nbformat": 4,
 "nbformat_minor": 2
}
