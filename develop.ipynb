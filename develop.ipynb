{
 "cells": [
  {
   "cell_type": "code",
   "execution_count": 2,
   "metadata": {},
   "outputs": [],
   "source": [
    "import numpy as np\n",
    "from copy import deepcopy"
   ]
  },
  {
   "cell_type": "code",
   "execution_count": 3,
   "metadata": {},
   "outputs": [],
   "source": [
    "def wrapper(lambda_function):\n",
    "    \n",
    "    def wrapped_function(args: list):\n",
    "        return lambda_function(*args)\n",
    "    \n",
    "    return wrapped_function"
   ]
  },
  {
   "cell_type": "code",
   "execution_count": 4,
   "metadata": {},
   "outputs": [],
   "source": [
    "def max_error(system: list, args: list) -> float:\n",
    "\n",
    "    return max([abs(lam(*args)) for lam in system])"
   ]
  },
  {
   "cell_type": "code",
   "execution_count": 76,
   "metadata": {},
   "outputs": [],
   "source": [
    "def Jacobi(system: list, values=None, eps=1e-7) -> list:\n",
    "    '''\n",
    "        The simple iteration method (Jacobi method). \n",
    "        Example:\n",
    "            Input:\n",
    "                system = [\n",
    "                    lambda x, y, z: x ** 2 + np.sin(y) + z,\n",
    "                    lambda x, y, z: y ** 2 + np.cos(z) + x, \n",
    "                    lambda x, y, z: z ** 2 + y / x + 2\n",
    "                ]\n",
    "                values = [1., 1., 1.] (if None - automatic answer search)\n",
    "            Output:\n",
    "                ([x1, x2, x3], max_error)\n",
    "    '''\n",
    "    # Method implementation\n",
    "    def epoch(values: np.ndarray):\n",
    "        answer = []\n",
    "        min_error = np.inf\n",
    "        error_last = np.inf\n",
    "        iter = 0\n",
    "        while error_last > eps and iter < 1000:\n",
    "            iter += 1\n",
    "            values = np.array([values[i] - wsystem[i](values) for i in range(n)]) # Calculating new values at i-step\n",
    "            error_cur = max_error(system, values) \n",
    "            if (error_cur > error_last) or (error_cur >= np.inf) or (None in values):\n",
    "                break\n",
    "            elif error_cur < min_error:\n",
    "                answer, min_error = deepcopy((values, error_cur))\n",
    "            error_last = error_cur\n",
    "\n",
    "        if len(answer):\n",
    "            return answer, min_error\n",
    "\n",
    "        return values, error_last\n",
    "    \n",
    "    n = len(system)\n",
    "    wsystem = [wrapper(lam) for lam in system]        \n",
    "    if values is not None: # The result for the proposed first approximation will be returned\n",
    "        if not isinstance(values, np.ndarray): \n",
    "            values = np.array(values)\n",
    "        return epoch(values)\n",
    "\n",
    "    answer = []\n",
    "    min_error = np.inf   \n",
    "    start = np.zeros((n, )) + eps\n",
    "    step_rate = 0.05\n",
    "    for i in range(1000): \n",
    "        step_rate += 0.05\n",
    "        err = epoch(start)[1]\n",
    "        for j in range(n):\n",
    "            sign = 1\n",
    "            iter = 0\n",
    "            while True:\n",
    "                start[j] += sign * step_rate\n",
    "                ans, cur_err = epoch(start)\n",
    "                if cur_err < eps:\n",
    "                    return ans, cur_err\n",
    "                elif cur_err < min_error:\n",
    "                    answer, min_error = deepcopy((ans, cur_err))\n",
    "                if cur_err < err:\n",
    "                    err = cur_err\n",
    "                else:\n",
    "                    if iter == 0 and cur_err > err:\n",
    "                        sign *= -1\n",
    "                        start[j] += sign * step_rate\n",
    "                    elif iter != 0 and cur_err >= err:\n",
    "                        break\n",
    "                iter += 1\n",
    "    return answer, min_error"
   ]
  },
  {
   "cell_type": "code",
   "execution_count": 78,
   "metadata": {},
   "outputs": [
    {
     "name": "stdout",
     "output_type": "stream",
     "text": [
      "(array([1.29687463]), 0.1811924448352178)\n"
     ]
    }
   ],
   "source": [
    "print(Jacobi([lambda x: x ** 3 - 2]))"
   ]
  },
  {
   "cell_type": "code",
   "execution_count": 79,
   "metadata": {},
   "outputs": [
    {
     "name": "stdout",
     "output_type": "stream",
     "text": [
      "(array([ 0.30983326, -1.40999998, -1.66666701]), 2.5577704616887895)\n"
     ]
    }
   ],
   "source": [
    "system = [\n",
    "    lambda x, y, z: x ** 2 + np.sin(y) + z,\n",
    "    lambda x, y, z: y ** 2 + np.cos(z) + x, \n",
    "    lambda x, y, z: z ** 2 + y / x + 2\n",
    "]\n",
    "print(Jacobi(system))"
   ]
  }
 ],
 "metadata": {
  "kernelspec": {
   "display_name": "Python 3",
   "language": "python",
   "name": "python3"
  },
  "language_info": {
   "codemirror_mode": {
    "name": "ipython",
    "version": 3
   },
   "file_extension": ".py",
   "mimetype": "text/x-python",
   "name": "python",
   "nbconvert_exporter": "python",
   "pygments_lexer": "ipython3",
   "version": "3.9.7"
  }
 },
 "nbformat": 4,
 "nbformat_minor": 2
}
