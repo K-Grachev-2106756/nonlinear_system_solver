{
 "cells": [
  {
   "cell_type": "code",
   "execution_count": 3,
   "metadata": {},
   "outputs": [],
   "source": [
    "import numpy as np\n",
    "from copy import deepcopy"
   ]
  },
  {
   "cell_type": "code",
   "execution_count": 4,
   "metadata": {},
   "outputs": [],
   "source": [
    "def wrapper(lambda_function):\n",
    "    \n",
    "    def wrapped_function(args: list):\n",
    "        return lambda_function(*args)\n",
    "    \n",
    "    return wrapped_function"
   ]
  },
  {
   "cell_type": "code",
   "execution_count": 5,
   "metadata": {},
   "outputs": [],
   "source": [
    "def max_error(system: list, args: list) -> float:\n",
    "\n",
    "    return max([abs(lam(*args)) for lam in system])"
   ]
  },
  {
   "cell_type": "code",
   "execution_count": 6,
   "metadata": {},
   "outputs": [],
   "source": [
    "def Jacobi(system: list, values=None, eps=1e-7) -> list:\n",
    "    '''\n",
    "        The simple iteration method (Jacobi method). \n",
    "        Example:\n",
    "            Input:\n",
    "                system = [\n",
    "                    lambda x, y, z: x ** 2 + np.sin(y) + z,\n",
    "                    lambda x, y, z: y ** 2 + np.cos(z) + x, \n",
    "                    lambda x, y, z: z ** 2 + y / x + 2\n",
    "                ]\n",
    "                values = [1., 1., 1.] (if None - automatic answer search)\n",
    "            Output:\n",
    "                ([x1, x2, x3], max_error)\n",
    "    '''\n",
    "    # Method implementation\n",
    "    def epoch(values: np.ndarray):\n",
    "        answer = []\n",
    "        min_error = np.inf\n",
    "        error_last = np.inf\n",
    "        iter = 0\n",
    "        while error_last > eps and iter < 2000:\n",
    "            iter += 1\n",
    "            values = np.array([values[i] - wsystem[i](values) for i in range(n)]) # Calculating new values at i-step\n",
    "            error_cur = max_error(system, values) \n",
    "            if (error_cur > error_last) or (error_cur >= np.inf) or (None in values):\n",
    "                break\n",
    "            elif error_cur < min_error:\n",
    "                answer, min_error = deepcopy((values, error_cur))\n",
    "            error_last = error_cur\n",
    "\n",
    "        if len(answer):\n",
    "            return answer, min_error\n",
    "\n",
    "        return values, error_last\n",
    "    \n",
    "    n = len(system)\n",
    "    wsystem = [wrapper(lam) for lam in system]        \n",
    "    if values is not None: # The result for the proposed first approximation will be returned\n",
    "        if not isinstance(values, np.ndarray): \n",
    "            values = np.array(values)\n",
    "        return epoch(values)\n",
    "\n",
    "    answer = []\n",
    "    min_error = np.inf   \n",
    "    for step_rate in [0.025, 0.05, 0.1]:\n",
    "        start_rate = step_rate\n",
    "        start = np.zeros((n, )) + eps\n",
    "        for i in range(5000): \n",
    "            if not i % 20:\n",
    "                step_rate += (start_rate - (start_rate / 5) * (i // 1000))  \n",
    "            err = epoch(start)[1]\n",
    "            for j in range(n):\n",
    "                sign = 1\n",
    "                iter = 1\n",
    "                while True:\n",
    "                    if not iter % 10:\n",
    "                        break\n",
    "                    start[j] += sign * step_rate\n",
    "                    ans, cur_err = epoch(start)\n",
    "                    if cur_err < eps:\n",
    "                        return ans, cur_err\n",
    "                    elif cur_err < min_error:\n",
    "                        answer, min_error = deepcopy((ans, cur_err))\n",
    "                    if cur_err < err:\n",
    "                        err = cur_err\n",
    "                    else:\n",
    "                        if iter == 1 and cur_err > err:\n",
    "                            sign *= -1\n",
    "                            start[j] += sign * step_rate\n",
    "                        elif iter != 1 and cur_err >= err:\n",
    "                            break\n",
    "                    iter += 1\n",
    "    return answer, min_error"
   ]
  },
  {
   "cell_type": "code",
   "execution_count": 7,
   "metadata": {},
   "outputs": [
    {
     "name": "stdout",
     "output_type": "stream",
     "text": [
      "(array([ 0.15481272, -0.26248333,  0.09417005]), 1.219279491682793)\n"
     ]
    }
   ],
   "source": [
    "system = [\n",
    "    lambda x, y, z: x ** 2 + np.sin(y) + z,\n",
    "    lambda x, y, z: y ** 2 + np.cos(z) + x, \n",
    "    lambda x, y, z: z ** 2 + y / x + 2\n",
    "]\n",
    "print(Jacobi(system))"
   ]
  },
  {
   "cell_type": "code",
   "execution_count": 10,
   "metadata": {},
   "outputs": [
    {
     "name": "stdout",
     "output_type": "stream",
     "text": [
      "[nan nan nan]\n",
      "False\n"
     ]
    },
    {
     "name": "stderr",
     "output_type": "stream",
     "text": [
      "C:\\Users\\user\\AppData\\Local\\Temp\\ipykernel_4224\\3028654666.py:3: RuntimeWarning: invalid value encountered in sqrt\n",
      "  a = np.array([np.sqrt(-1) for i in range(3)])\n"
     ]
    }
   ],
   "source": [
    "import numpy as np\n",
    "\n",
    "a = np.array([np.sqrt(-1) for i in range(3)])\n",
    "print(a)\n",
    "result = np.any(np.iscomplex(a))\n",
    "print(result)"
   ]
  },
  {
   "cell_type": "code",
   "execution_count": 12,
   "metadata": {},
   "outputs": [
    {
     "name": "stdout",
     "output_type": "stream",
     "text": [
      "True\n"
     ]
    },
    {
     "name": "stderr",
     "output_type": "stream",
     "text": [
      "C:\\Users\\user\\AppData\\Local\\Temp\\ipykernel_4224\\541720343.py:3: RuntimeWarning: invalid value encountered in sqrt\n",
      "  a = np.array([np.sqrt(-1) for i in range(3)])\n"
     ]
    }
   ],
   "source": [
    "import numpy as np\n",
    "\n",
    "a = np.array([np.sqrt(-1) for i in range(3)])\n",
    "\n",
    "# Check if any element in the array is NaN\n",
    "result = any(np.isnan(a))\n",
    "\n",
    "print(result)\n"
   ]
  }
 ],
 "metadata": {
  "kernelspec": {
   "display_name": "Python 3",
   "language": "python",
   "name": "python3"
  },
  "language_info": {
   "codemirror_mode": {
    "name": "ipython",
    "version": 3
   },
   "file_extension": ".py",
   "mimetype": "text/x-python",
   "name": "python",
   "nbconvert_exporter": "python",
   "pygments_lexer": "ipython3",
   "version": "3.9.7"
  }
 },
 "nbformat": 4,
 "nbformat_minor": 2
}
